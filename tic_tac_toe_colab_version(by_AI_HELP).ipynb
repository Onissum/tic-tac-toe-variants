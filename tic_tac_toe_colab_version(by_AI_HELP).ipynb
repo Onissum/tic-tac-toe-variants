from IPython.display import display
import ipywidgets as widgets
import random

# Creo una variabile che tiene conto del turno del giocatore
turn = "X"

# Creo una variabile che tiene conto dello stato della griglia
grid = [["", "", ""], ["", "", ""], ["", "", ""]]

# Modalità di gioco ("2P" per due giocatori, "1P" per giocare contro il computer)
mode = "2P"  # Impostazione predefinita, ma può essere cambiata

# Creo una funzione che controlla se c'è una vittoria
def check_win():
    global grid
    # Controllo le righe, colonne e diagonali
    for i in range(3):
        if grid[i][0] == grid[i][1] == grid[i][2] != "":
            return grid[i][0]
        if grid[0][i] == grid[1][i] == grid[2][i] != "":
            return grid[0][i]
    if grid[0][0] == grid[1][1] == grid[2][2] != "":
        return grid[0][0]
    if grid[0][2] == grid[1][1] == grid[2][0] != "":
        return grid[0][2]
    return ""

# Creo una funzione che controlla se c'è un pareggio
def check_draw():
    global grid
    for row in grid:
        if "" in row:
            return False
    return True

# Creo una funzione che gestisce il clic su una casella
def click(btn, row, col):
    global turn, grid, mode
    # Se la casella è vuota e il gioco non è finito, posso segnarla con il simbolo del turno corrente
    if grid[row][col] == "" and check_win() == "" and not check_draw():
        grid[row][col] = turn
        btn.description = turn
        btn.disabled = True  # Disabilito il pulsante dopo aver fatto una mossa
        # Controllo se c'è una vittoria o un pareggio e aggiorno l'etichetta di conseguenza
        winner = check_win()
        if winner:
            label.value = f"Ha vinto {winner}!"
            disable_all_buttons()
        elif check_draw():
            label.value = "Pareggio!"
            disable_all_buttons()
        else:
            # Cambio il turno al giocatore successivo
            turn = "O" if turn == "X" else "X"
            label.value = f"Turno di {turn}"
            # Se è il turno del computer e la modalità è 1 giocatore, il computer fa la sua mossa
            if mode == "1P" and turn == "O":
                computer_move()

# Funzione per la mossa del computer
def computer_move():
    global grid, turn
    # Trova tutte le caselle vuote
    empty_cells = [(i, j) for i in range(3) for j in range(3) if grid[i][j] == ""]
    if empty_cells:
        # Sceglie una casella vuota a caso
        row, col = random.choice(empty_cells)
        # Simula un clic su quella casella
        click(buttons[row][col], row, col)

# Creo la griglia dei pulsanti
buttons = []
for i in range(3):
    row = []
    for j in range(3):
        button = widgets.Button(
            description="",
            layout=widgets.Layout(width='60px', height='60px', border='1px solid black'),  # Aggiunto bordo
            style={'button_color': 'lightgray'}  # Cambiato colore di sfondo
        )
        button.on_click(lambda btn, r=i, c=j: click(btn, r, c))
        row.append(button)
    buttons.append(row)

# Creo l'etichetta del turno
label = widgets.Label(value=f"Turno di {turn}")

# Creo un layout per la griglia dei pulsanti e l'etichetta del turno
grid_rows = [widgets.HBox(row) for row in buttons]
ui_layout = widgets.VBox(grid_rows + [label])

def disable_all_buttons():
    for row in buttons:
        for button in row:
            button.disabled = True

# Creo un widget per selezionare la modalità di gioco
mode_selector = widgets.Dropdown(
    options=[('2 Giocatori', '2P'), ('1 Giocatore (contro PC)', '1P')],
    value='2P',
    description='Modalità:',
)

def on_mode_change(change):
    global mode, turn, grid
    mode = change['new']
    # Resetta il gioco quando si cambia modalità
    turn = "X"
    grid = [["", "", ""], ["", "", ""], ["", "", ""]]
    for i in range(3):
        for j in range(3):
            buttons[i][j].description = ""
            buttons[i][j].disabled = False
    label.value = f"Turno di {turn}"

mode_selector.observe(on_mode_change, names='value')

# Visualizzo il selettore di modalità e l'interfaccia utente
display(mode_selector)
display(ui_layout)
